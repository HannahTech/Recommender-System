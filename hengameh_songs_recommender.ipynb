{
 "cells": [
  {
   "cell_type": "code",
   "execution_count": 1,
   "id": "16174780",
   "metadata": {
    "scrolled": true
   },
   "outputs": [],
   "source": [
    "import pandas as pd\n",
    "import numpy as np\n",
    "import gzip, json, re\n",
    "from sklearn.feature_extraction.text import TfidfVectorizer\n",
    "from sklearn.metrics.pairwise import linear_kernel"
   ]
  },
  {
   "cell_type": "code",
   "execution_count": 2,
   "id": "9b6d6073",
   "metadata": {
    "scrolled": true
   },
   "outputs": [],
   "source": [
    "with gzip.open('meta_Digital_Music.json.gz', 'rb') as f:\n",
    "    data = f.read()\n",
    "    data = data.decode('utf-8')"
   ]
  },
  {
   "cell_type": "code",
   "execution_count": 3,
   "id": "82103118",
   "metadata": {
    "scrolled": true
   },
   "outputs": [],
   "source": [
    "songs_hengameh = pd.read_json(data, lines=True)"
   ]
  },
  {
   "cell_type": "code",
   "execution_count": 4,
   "id": "75eac974",
   "metadata": {
    "scrolled": true
   },
   "outputs": [
    {
     "data": {
      "text/html": [
       "<div>\n",
       "<style scoped>\n",
       "    .dataframe tbody tr th:only-of-type {\n",
       "        vertical-align: middle;\n",
       "    }\n",
       "\n",
       "    .dataframe tbody tr th {\n",
       "        vertical-align: top;\n",
       "    }\n",
       "\n",
       "    .dataframe thead th {\n",
       "        text-align: right;\n",
       "    }\n",
       "</style>\n",
       "<table border=\"1\" class=\"dataframe\">\n",
       "  <thead>\n",
       "    <tr style=\"text-align: right;\">\n",
       "      <th></th>\n",
       "      <th>category</th>\n",
       "      <th>tech1</th>\n",
       "      <th>description</th>\n",
       "      <th>fit</th>\n",
       "      <th>title</th>\n",
       "      <th>also_buy</th>\n",
       "      <th>tech2</th>\n",
       "      <th>brand</th>\n",
       "      <th>feature</th>\n",
       "      <th>rank</th>\n",
       "      <th>also_view</th>\n",
       "      <th>main_cat</th>\n",
       "      <th>similar_item</th>\n",
       "      <th>date</th>\n",
       "      <th>price</th>\n",
       "      <th>asin</th>\n",
       "      <th>imageURL</th>\n",
       "      <th>imageURLHighRes</th>\n",
       "      <th>details</th>\n",
       "    </tr>\n",
       "  </thead>\n",
       "  <tbody>\n",
       "    <tr>\n",
       "      <th>0</th>\n",
       "      <td>[]</td>\n",
       "      <td></td>\n",
       "      <td>[]</td>\n",
       "      <td></td>\n",
       "      <td>Master Collection Volume One</td>\n",
       "      <td>[B000002UEN, B000008LD5, B01J804JKE, 747403435...</td>\n",
       "      <td></td>\n",
       "      <td>John Michael Talbot</td>\n",
       "      <td>[]</td>\n",
       "      <td>58,291 in CDs &amp; Vinyl (</td>\n",
       "      <td>[B000002UEN, B000008LD5, 7474034352, B000008LD...</td>\n",
       "      <td>&lt;img src=\"https://images-na.ssl-images-amazon....</td>\n",
       "      <td></td>\n",
       "      <td></td>\n",
       "      <td>$18.99</td>\n",
       "      <td>0001377647</td>\n",
       "      <td>[]</td>\n",
       "      <td>[]</td>\n",
       "      <td>NaN</td>\n",
       "    </tr>\n",
       "    <tr>\n",
       "      <th>1</th>\n",
       "      <td>[]</td>\n",
       "      <td></td>\n",
       "      <td>[]</td>\n",
       "      <td></td>\n",
       "      <td>Hymns Collection: Hymns 1 &amp;amp; 2</td>\n",
       "      <td>[5558154950, B00014K5V4]</td>\n",
       "      <td></td>\n",
       "      <td>Second Chapter of Acts</td>\n",
       "      <td>[]</td>\n",
       "      <td>93,164 in CDs &amp; Vinyl (</td>\n",
       "      <td>[B000008KJ3, B000008KJ0, 5558154950, B000UN8KZ...</td>\n",
       "      <td>&lt;img src=\"https://images-na.ssl-images-amazon....</td>\n",
       "      <td></td>\n",
       "      <td></td>\n",
       "      <td></td>\n",
       "      <td>0001529145</td>\n",
       "      <td>[]</td>\n",
       "      <td>[]</td>\n",
       "      <td>NaN</td>\n",
       "    </tr>\n",
       "    <tr>\n",
       "      <th>2</th>\n",
       "      <td>[]</td>\n",
       "      <td></td>\n",
       "      <td>[]</td>\n",
       "      <td></td>\n",
       "      <td>Early Works - Don Francisco</td>\n",
       "      <td>[B00004RC05, B003H8F4NA, B003ZFVHPO, B003JMP1Z...</td>\n",
       "      <td></td>\n",
       "      <td>Don Francisco</td>\n",
       "      <td>[]</td>\n",
       "      <td>875,825 in CDs &amp; Vinyl (</td>\n",
       "      <td>[B003H8F4NA, B003ZFVHPO, B003JMP1ZK, B00004RC0...</td>\n",
       "      <td>&lt;img src=\"https://images-na.ssl-images-amazon....</td>\n",
       "      <td></td>\n",
       "      <td></td>\n",
       "      <td></td>\n",
       "      <td>0001527134</td>\n",
       "      <td>[]</td>\n",
       "      <td>[]</td>\n",
       "      <td>NaN</td>\n",
       "    </tr>\n",
       "  </tbody>\n",
       "</table>\n",
       "</div>"
      ],
      "text/plain": [
       "  category tech1 description fit                              title  \\\n",
       "0       []                []           Master Collection Volume One   \n",
       "1       []                []      Hymns Collection: Hymns 1 &amp; 2   \n",
       "2       []                []            Early Works - Don Francisco   \n",
       "\n",
       "                                            also_buy tech2  \\\n",
       "0  [B000002UEN, B000008LD5, B01J804JKE, 747403435...         \n",
       "1                           [5558154950, B00014K5V4]         \n",
       "2  [B00004RC05, B003H8F4NA, B003ZFVHPO, B003JMP1Z...         \n",
       "\n",
       "                    brand feature                      rank  \\\n",
       "0     John Michael Talbot      []   58,291 in CDs & Vinyl (   \n",
       "1  Second Chapter of Acts      []   93,164 in CDs & Vinyl (   \n",
       "2           Don Francisco      []  875,825 in CDs & Vinyl (   \n",
       "\n",
       "                                           also_view  \\\n",
       "0  [B000002UEN, B000008LD5, 7474034352, B000008LD...   \n",
       "1  [B000008KJ3, B000008KJ0, 5558154950, B000UN8KZ...   \n",
       "2  [B003H8F4NA, B003ZFVHPO, B003JMP1ZK, B00004RC0...   \n",
       "\n",
       "                                            main_cat similar_item date  \\\n",
       "0  <img src=\"https://images-na.ssl-images-amazon....                     \n",
       "1  <img src=\"https://images-na.ssl-images-amazon....                     \n",
       "2  <img src=\"https://images-na.ssl-images-amazon....                     \n",
       "\n",
       "    price        asin imageURL imageURLHighRes details  \n",
       "0  $18.99  0001377647       []              []     NaN  \n",
       "1          0001529145       []              []     NaN  \n",
       "2          0001527134       []              []     NaN  "
      ]
     },
     "execution_count": 4,
     "metadata": {},
     "output_type": "execute_result"
    }
   ],
   "source": [
    "songs_hengameh.head(3)"
   ]
  },
  {
   "cell_type": "code",
   "execution_count": 5,
   "id": "fd003b61",
   "metadata": {
    "scrolled": true
   },
   "outputs": [
    {
     "data": {
      "text/plain": [
       "Index(['category', 'tech1', 'description', 'fit', 'title', 'also_buy', 'tech2',\n",
       "       'brand', 'feature', 'rank', 'also_view', 'main_cat', 'similar_item',\n",
       "       'date', 'price', 'asin', 'imageURL', 'imageURLHighRes', 'details'],\n",
       "      dtype='object')"
      ]
     },
     "execution_count": 5,
     "metadata": {},
     "output_type": "execute_result"
    }
   ],
   "source": [
    "songs_hengameh.columns"
   ]
  },
  {
   "cell_type": "code",
   "execution_count": 6,
   "id": "5bf85f08",
   "metadata": {
    "scrolled": true
   },
   "outputs": [
    {
     "data": {
      "text/plain": [
       "1412593"
      ]
     },
     "execution_count": 6,
     "metadata": {},
     "output_type": "execute_result"
    }
   ],
   "source": [
    "songs_hengameh.size"
   ]
  },
  {
   "cell_type": "code",
   "execution_count": 7,
   "id": "b18a34c6",
   "metadata": {
    "scrolled": true
   },
   "outputs": [
    {
     "data": {
      "text/plain": [
       "(74347, 19)"
      ]
     },
     "execution_count": 7,
     "metadata": {},
     "output_type": "execute_result"
    }
   ],
   "source": [
    "songs_hengameh.shape"
   ]
  },
  {
   "cell_type": "code",
   "execution_count": 8,
   "id": "d8f3ae98",
   "metadata": {
    "scrolled": true
   },
   "outputs": [
    {
     "name": "stdout",
     "output_type": "stream",
     "text": [
      "<class 'pandas.core.frame.DataFrame'>\n",
      "RangeIndex: 74347 entries, 0 to 74346\n",
      "Data columns (total 19 columns):\n",
      " #   Column           Non-Null Count  Dtype \n",
      "---  ------           --------------  ----- \n",
      " 0   category         74347 non-null  object\n",
      " 1   tech1            74347 non-null  object\n",
      " 2   description      74347 non-null  object\n",
      " 3   fit              74347 non-null  object\n",
      " 4   title            74347 non-null  object\n",
      " 5   also_buy         74347 non-null  object\n",
      " 6   tech2            74347 non-null  object\n",
      " 7   brand            74347 non-null  object\n",
      " 8   feature          74347 non-null  object\n",
      " 9   rank             74347 non-null  object\n",
      " 10  also_view        74347 non-null  object\n",
      " 11  main_cat         74347 non-null  object\n",
      " 12  similar_item     74347 non-null  object\n",
      " 13  date             74347 non-null  object\n",
      " 14  price            74347 non-null  object\n",
      " 15  asin             74347 non-null  object\n",
      " 16  imageURL         74347 non-null  object\n",
      " 17  imageURLHighRes  74347 non-null  object\n",
      " 18  details          73813 non-null  object\n",
      "dtypes: object(19)\n",
      "memory usage: 10.8+ MB\n"
     ]
    }
   ],
   "source": [
    "songs_hengameh.info() #songs_hengameh.dtypes"
   ]
  },
  {
   "cell_type": "code",
   "execution_count": 9,
   "id": "b7aaf51a",
   "metadata": {
    "scrolled": true
   },
   "outputs": [
    {
     "data": {
      "text/plain": [
       "category             0\n",
       "tech1                0\n",
       "description          0\n",
       "fit                  0\n",
       "title                0\n",
       "also_buy             0\n",
       "tech2                0\n",
       "brand                0\n",
       "feature              0\n",
       "rank                 0\n",
       "also_view            0\n",
       "main_cat             0\n",
       "similar_item         0\n",
       "date                 0\n",
       "price                0\n",
       "asin                 0\n",
       "imageURL             0\n",
       "imageURLHighRes      0\n",
       "details            534\n",
       "dtype: int64"
      ]
     },
     "execution_count": 9,
     "metadata": {},
     "output_type": "execute_result"
    }
   ],
   "source": [
    "songs_hengameh.isna().sum()"
   ]
  },
  {
   "cell_type": "code",
   "execution_count": 10,
   "id": "10f1a52d",
   "metadata": {
    "scrolled": true
   },
   "outputs": [
    {
     "data": {
      "text/plain": [
       "category           74340\n",
       "tech1              74347\n",
       "description        37821\n",
       "fit                74347\n",
       "title                677\n",
       "also_buy           64960\n",
       "tech2              74347\n",
       "brand              14471\n",
       "feature            74258\n",
       "rank                5938\n",
       "also_view          60758\n",
       "main_cat               0\n",
       "similar_item       74347\n",
       "date               74342\n",
       "price              27897\n",
       "asin                   0\n",
       "imageURL           51124\n",
       "imageURLHighRes    51124\n",
       "details             1540\n",
       "dtype: int64"
      ]
     },
     "execution_count": 10,
     "metadata": {},
     "output_type": "execute_result"
    }
   ],
   "source": [
    "# empty_values = (songs_hengameh.eq('') | songs_hengameh.eq(' ') |\\\n",
    "#                     songs_hengameh.applymap(lambda x: isinstance(x, list) and len(x)==0) | \\\n",
    "#                     songs_hengameh.applymap(lambda x: isinstance(x, dict) and len(x)==0) | \\\n",
    "#                     songs_hengameh.isnull()).sum().sum()\n",
    "\n",
    "songs_hengameh = songs_hengameh.applymap(lambda x: np.nan if ((type(x) == str and len(x) == 0) or\\\n",
    "                    (type(x) == list and len(x) == 0) or (type(x) == dict and len(x) == 0)) else x)\n",
    "songs_hengameh.isnull().sum()"
   ]
  },
  {
   "cell_type": "code",
   "execution_count": 11,
   "id": "5e04fc03",
   "metadata": {
    "scrolled": true
   },
   "outputs": [],
   "source": [
    "empty_columns = ['category', 'tech1', 'fit', 'tech2', 'feature', 'main_cat', 'similar_item', 'date', 'imageURL', 'imageURLHighRes', 'details']\n",
    "songs_hengameh.drop(columns=empty_columns, inplace=True)"
   ]
  },
  {
   "cell_type": "code",
   "execution_count": 12,
   "id": "5b43af82",
   "metadata": {
    "scrolled": true
   },
   "outputs": [
    {
     "name": "stdout",
     "output_type": "stream",
     "text": [
      "<class 'pandas.core.frame.DataFrame'>\n",
      "RangeIndex: 74347 entries, 0 to 74346\n",
      "Data columns (total 8 columns):\n",
      " #   Column       Non-Null Count  Dtype \n",
      "---  ------       --------------  ----- \n",
      " 0   description  36526 non-null  object\n",
      " 1   title        73670 non-null  object\n",
      " 2   also_buy     9387 non-null   object\n",
      " 3   brand        59876 non-null  object\n",
      " 4   rank         68409 non-null  object\n",
      " 5   also_view    13589 non-null  object\n",
      " 6   price        46450 non-null  object\n",
      " 7   asin         74347 non-null  object\n",
      "dtypes: object(8)\n",
      "memory usage: 4.5+ MB\n"
     ]
    }
   ],
   "source": [
    "songs_hengameh.info()"
   ]
  },
  {
   "cell_type": "code",
   "execution_count": 13,
   "id": "8ec51e46",
   "metadata": {
    "scrolled": true
   },
   "outputs": [
    {
     "data": {
      "text/html": [
       "<div>\n",
       "<style scoped>\n",
       "    .dataframe tbody tr th:only-of-type {\n",
       "        vertical-align: middle;\n",
       "    }\n",
       "\n",
       "    .dataframe tbody tr th {\n",
       "        vertical-align: top;\n",
       "    }\n",
       "\n",
       "    .dataframe thead th {\n",
       "        text-align: right;\n",
       "    }\n",
       "</style>\n",
       "<table border=\"1\" class=\"dataframe\">\n",
       "  <thead>\n",
       "    <tr style=\"text-align: right;\">\n",
       "      <th></th>\n",
       "      <th>description</th>\n",
       "      <th>title</th>\n",
       "      <th>also_buy</th>\n",
       "      <th>brand</th>\n",
       "      <th>rank</th>\n",
       "      <th>also_view</th>\n",
       "      <th>price</th>\n",
       "      <th>asin</th>\n",
       "    </tr>\n",
       "  </thead>\n",
       "  <tbody>\n",
       "    <tr>\n",
       "      <th>3</th>\n",
       "      <td>NaN</td>\n",
       "      <td>So You Wanna Go Back to Egypt</td>\n",
       "      <td>[B0000275QQ, 0001393774, 0001388312, B0016CP2G...</td>\n",
       "      <td>Keith Green</td>\n",
       "      <td>203,263 in CDs &amp; Vinyl (</td>\n",
       "      <td>[B00000I7JO, B0016CP2GS, 0001393774, B0000275Q...</td>\n",
       "      <td>$13.01</td>\n",
       "      <td>0001388703</td>\n",
       "    </tr>\n",
       "    <tr>\n",
       "      <th>4</th>\n",
       "      <td>[1. Losing Game 2. I Can't Wait 3. Didn't He S...</td>\n",
       "      <td>Early Works - Dallas Holm</td>\n",
       "      <td>[B0002N4JP2, 0760131694, B00002EQ79, B00150K8J...</td>\n",
       "      <td>Dallas Holm</td>\n",
       "      <td>399,269 in CDs &amp; Vinyl (</td>\n",
       "      <td>[B0002N4JP2, 0760131694, B00150K8JC, B003MTXNV...</td>\n",
       "      <td>NaN</td>\n",
       "      <td>0001526146</td>\n",
       "    </tr>\n",
       "    <tr>\n",
       "      <th>5</th>\n",
       "      <td>NaN</td>\n",
       "      <td>The Glory of Love (Solo Piano)</td>\n",
       "      <td>NaN</td>\n",
       "      <td>Michael Faircloth</td>\n",
       "      <td>779,669 in CDs &amp; Vinyl (</td>\n",
       "      <td>NaN</td>\n",
       "      <td>NaN</td>\n",
       "      <td>0005096421</td>\n",
       "    </tr>\n",
       "  </tbody>\n",
       "</table>\n",
       "</div>"
      ],
      "text/plain": [
       "                                         description  \\\n",
       "3                                                NaN   \n",
       "4  [1. Losing Game 2. I Can't Wait 3. Didn't He S...   \n",
       "5                                                NaN   \n",
       "\n",
       "                            title  \\\n",
       "3   So You Wanna Go Back to Egypt   \n",
       "4       Early Works - Dallas Holm   \n",
       "5  The Glory of Love (Solo Piano)   \n",
       "\n",
       "                                            also_buy              brand  \\\n",
       "3  [B0000275QQ, 0001393774, 0001388312, B0016CP2G...        Keith Green   \n",
       "4  [B0002N4JP2, 0760131694, B00002EQ79, B00150K8J...        Dallas Holm   \n",
       "5                                                NaN  Michael Faircloth   \n",
       "\n",
       "                       rank  \\\n",
       "3  203,263 in CDs & Vinyl (   \n",
       "4  399,269 in CDs & Vinyl (   \n",
       "5  779,669 in CDs & Vinyl (   \n",
       "\n",
       "                                           also_view   price        asin  \n",
       "3  [B00000I7JO, B0016CP2GS, 0001393774, B0000275Q...  $13.01  0001388703  \n",
       "4  [B0002N4JP2, 0760131694, B00150K8JC, B003MTXNV...     NaN  0001526146  \n",
       "5                                                NaN     NaN  0005096421  "
      ]
     },
     "execution_count": 13,
     "metadata": {},
     "output_type": "execute_result"
    }
   ],
   "source": [
    "songs_hengameh[3:6]"
   ]
  },
  {
   "cell_type": "code",
   "execution_count": 14,
   "id": "d8f74c1f",
   "metadata": {
    "scrolled": true
   },
   "outputs": [
    {
     "data": {
      "text/plain": [
       "[\"1. Losing Game 2. I Can't Wait 3. Didn't He Shine 4. Never Seen...Righteous... 5. A Broken Heart 6. Looking Back 7. Here We Are 8. I Saw The Lord 9. Jesus Is A River Of Love 10. Hittin' The Road 11. I've Never Been Out Of... 12. Jesus Gotta Hold Of My Life 13. Saved- Saved- Saved 14. What Will You Do? 15. Rise Again\"]"
      ]
     },
     "execution_count": 14,
     "metadata": {},
     "output_type": "execute_result"
    }
   ],
   "source": [
    "songs_hengameh['description'][4]"
   ]
  },
  {
   "cell_type": "code",
   "execution_count": 15,
   "id": "82278cae",
   "metadata": {
    "scrolled": true
   },
   "outputs": [
    {
     "data": {
      "text/plain": [
       "'Early Works - Dallas Holm'"
      ]
     },
     "execution_count": 15,
     "metadata": {},
     "output_type": "execute_result"
    }
   ],
   "source": [
    "songs_hengameh['title'][4]"
   ]
  },
  {
   "cell_type": "code",
   "execution_count": 16,
   "id": "2f8319c2",
   "metadata": {
    "scrolled": true
   },
   "outputs": [],
   "source": [
    "songs_hengameh['description'] = songs_hengameh['description'].apply(lambda x: ', '.join(x) if isinstance(x, list) else x)\n",
    "songs_hengameh['also_buy'] = songs_hengameh['also_buy'].apply(lambda x: ', '.join(x) if isinstance(x, list) else x)\n",
    "songs_hengameh['also_view'] = songs_hengameh['also_view'].apply(lambda x: ', '.join(x) if isinstance(x, list) else x)"
   ]
  },
  {
   "cell_type": "code",
   "execution_count": 17,
   "id": "3c080b27",
   "metadata": {
    "scrolled": true
   },
   "outputs": [],
   "source": [
    "songs_hengameh['popular_asin'] = songs_hengameh['also_buy'].fillna('') + ' ' + songs_hengameh['also_view'].fillna('')"
   ]
  },
  {
   "cell_type": "code",
   "execution_count": 18,
   "id": "ebf2efbd",
   "metadata": {
    "scrolled": true
   },
   "outputs": [],
   "source": [
    "songs_hengameh['product_info'] = songs_hengameh['title'].fillna('') + ' ' + songs_hengameh['description'].fillna('') + ' ' + songs_hengameh['brand'].fillna('') "
   ]
  },
  {
   "cell_type": "code",
   "execution_count": 19,
   "id": "eaf670eb",
   "metadata": {
    "scrolled": true
   },
   "outputs": [
    {
     "data": {
      "text/html": [
       "<div>\n",
       "<style scoped>\n",
       "    .dataframe tbody tr th:only-of-type {\n",
       "        vertical-align: middle;\n",
       "    }\n",
       "\n",
       "    .dataframe tbody tr th {\n",
       "        vertical-align: top;\n",
       "    }\n",
       "\n",
       "    .dataframe thead th {\n",
       "        text-align: right;\n",
       "    }\n",
       "</style>\n",
       "<table border=\"1\" class=\"dataframe\">\n",
       "  <thead>\n",
       "    <tr style=\"text-align: right;\">\n",
       "      <th></th>\n",
       "      <th>title</th>\n",
       "      <th>rank</th>\n",
       "      <th>price</th>\n",
       "      <th>asin</th>\n",
       "      <th>popular_asin</th>\n",
       "      <th>product_info</th>\n",
       "    </tr>\n",
       "  </thead>\n",
       "  <tbody>\n",
       "    <tr>\n",
       "      <th>0</th>\n",
       "      <td>Master Collection Volume One</td>\n",
       "      <td>58,291 in CDs &amp; Vinyl (</td>\n",
       "      <td>$18.99</td>\n",
       "      <td>0001377647</td>\n",
       "      <td>B000002UEN, B000008LD5, B01J804JKE, 7474034352...</td>\n",
       "      <td>Master Collection Volume One  John Michael Talbot</td>\n",
       "    </tr>\n",
       "    <tr>\n",
       "      <th>1</th>\n",
       "      <td>Hymns Collection: Hymns 1 &amp;amp; 2</td>\n",
       "      <td>93,164 in CDs &amp; Vinyl (</td>\n",
       "      <td>NaN</td>\n",
       "      <td>0001529145</td>\n",
       "      <td>5558154950, B00014K5V4 B000008KJ3, B000008KJ0,...</td>\n",
       "      <td>Hymns Collection: Hymns 1 &amp;amp; 2  Second Chap...</td>\n",
       "    </tr>\n",
       "    <tr>\n",
       "      <th>2</th>\n",
       "      <td>Early Works - Don Francisco</td>\n",
       "      <td>875,825 in CDs &amp; Vinyl (</td>\n",
       "      <td>NaN</td>\n",
       "      <td>0001527134</td>\n",
       "      <td>B00004RC05, B003H8F4NA, B003ZFVHPO, B003JMP1ZK...</td>\n",
       "      <td>Early Works - Don Francisco  Don Francisco</td>\n",
       "    </tr>\n",
       "  </tbody>\n",
       "</table>\n",
       "</div>"
      ],
      "text/plain": [
       "                               title                      rank   price  \\\n",
       "0       Master Collection Volume One   58,291 in CDs & Vinyl (  $18.99   \n",
       "1  Hymns Collection: Hymns 1 &amp; 2   93,164 in CDs & Vinyl (     NaN   \n",
       "2        Early Works - Don Francisco  875,825 in CDs & Vinyl (     NaN   \n",
       "\n",
       "         asin                                       popular_asin  \\\n",
       "0  0001377647  B000002UEN, B000008LD5, B01J804JKE, 7474034352...   \n",
       "1  0001529145  5558154950, B00014K5V4 B000008KJ3, B000008KJ0,...   \n",
       "2  0001527134  B00004RC05, B003H8F4NA, B003ZFVHPO, B003JMP1ZK...   \n",
       "\n",
       "                                        product_info  \n",
       "0  Master Collection Volume One  John Michael Talbot  \n",
       "1  Hymns Collection: Hymns 1 &amp; 2  Second Chap...  \n",
       "2         Early Works - Don Francisco  Don Francisco  "
      ]
     },
     "execution_count": 19,
     "metadata": {},
     "output_type": "execute_result"
    }
   ],
   "source": [
    "songs_hengameh = songs_hengameh.drop(['description', 'brand', 'also_buy', 'also_view'],axis=1)\n",
    "songs_hengameh.head(3)"
   ]
  },
  {
   "cell_type": "code",
   "execution_count": 20,
   "id": "607dc69c",
   "metadata": {
    "scrolled": true
   },
   "outputs": [],
   "source": [
    "# songs_hengameh['also_buy'] = songs_hengameh['also_buy'].fillna('')\n",
    "# buy_dummies = pd.get_dummies(songs_hengameh['also_buy'].astype(str).str.split(',').apply(pd.Series).stack(), prefix='buy').sum(level=0)\n",
    "# songs_hengameh = pd.concat([songs_hengameh, buy_dummies], axis=1)\n",
    "\n",
    "# songs_hengameh['also_view'] = songs_hengameh['also_view'].fillna('')\n",
    "# view_dummies = pd.get_dummies(songs_hengameh['also_view'].astype(str).str.split(',').apply(pd.Series).stack(), prefix='view').sum(level=0)\n",
    "# songs_hengameh = pd.concat([songs_hengameh, view_dummies], axis=1)\n",
    "\n",
    "# brand_dummies = pd.get_dummies(df['brand'].fillna(''), prefix='brand', prefix_sep='')\n",
    "# songs_hengameh = pd.concat([songs_hengameh, brand_dummies], axis=1)"
   ]
  },
  {
   "cell_type": "code",
   "execution_count": 21,
   "id": "9146af77",
   "metadata": {
    "scrolled": true
   },
   "outputs": [],
   "source": [
    "songs_hengameh['price'] = songs_hengameh['price'].replace('[\\$,]', '', regex=True)"
   ]
  },
  {
   "cell_type": "code",
   "execution_count": 22,
   "id": "422ee7de",
   "metadata": {
    "scrolled": true
   },
   "outputs": [
    {
     "data": {
      "text/plain": [
       "'9600.61'"
      ]
     },
     "execution_count": 22,
     "metadata": {},
     "output_type": "execute_result"
    }
   ],
   "source": [
    "songs_hengameh['price'][12]"
   ]
  },
  {
   "cell_type": "code",
   "execution_count": 23,
   "id": "ced127cb",
   "metadata": {
    "scrolled": true
   },
   "outputs": [],
   "source": [
    "songs_hengameh['price'] = pd.to_numeric(songs_hengameh['price'], errors='coerce')"
   ]
  },
  {
   "cell_type": "code",
   "execution_count": 24,
   "id": "91f09762",
   "metadata": {
    "scrolled": true
   },
   "outputs": [],
   "source": [
    "songs_hengameh['price'].fillna(songs_hengameh['price'].median(), inplace=True)"
   ]
  },
  {
   "cell_type": "code",
   "execution_count": 25,
   "id": "d5932876",
   "metadata": {
    "scrolled": true
   },
   "outputs": [
    {
     "name": "stdout",
     "output_type": "stream",
     "text": [
      "<class 'pandas.core.frame.DataFrame'>\n",
      "RangeIndex: 74347 entries, 0 to 74346\n",
      "Data columns (total 6 columns):\n",
      " #   Column        Non-Null Count  Dtype  \n",
      "---  ------        --------------  -----  \n",
      " 0   title         73670 non-null  object \n",
      " 1   rank          68409 non-null  object \n",
      " 2   price         74347 non-null  float64\n",
      " 3   asin          74347 non-null  object \n",
      " 4   popular_asin  74347 non-null  object \n",
      " 5   product_info  74347 non-null  object \n",
      "dtypes: float64(1), object(5)\n",
      "memory usage: 3.4+ MB\n"
     ]
    }
   ],
   "source": [
    "songs_hengameh.info()"
   ]
  },
  {
   "cell_type": "code",
   "execution_count": 26,
   "id": "729e71be",
   "metadata": {
    "scrolled": true
   },
   "outputs": [],
   "source": [
    "songs_hengameh_main = songs_hengameh.copy()"
   ]
  },
  {
   "cell_type": "code",
   "execution_count": 27,
   "id": "4a71008e",
   "metadata": {
    "scrolled": true
   },
   "outputs": [
    {
     "data": {
      "text/plain": [
       "title            0\n",
       "rank             0\n",
       "price            0\n",
       "asin             0\n",
       "popular_asin     0\n",
       "product_info    27\n",
       "dtype: int64"
      ]
     },
     "execution_count": 27,
     "metadata": {},
     "output_type": "execute_result"
    }
   ],
   "source": [
    "songs_hengameh.applymap(lambda x: 'http' in str(x)).sum()"
   ]
  },
  {
   "cell_type": "code",
   "execution_count": 28,
   "id": "cd9f451f",
   "metadata": {
    "scrolled": true
   },
   "outputs": [],
   "source": [
    "# songs_hengameh.product_info[110:115]"
   ]
  },
  {
   "cell_type": "code",
   "execution_count": 29,
   "id": "6e1b51e6",
   "metadata": {
    "scrolled": true
   },
   "outputs": [
    {
     "data": {
      "text/plain": [
       "110                                      Pure Motivation\n",
       "111    <span class=\"a-size-medium a-color-secondary a...\n",
       "112     Tai Chi Meditation 2: Eight Direction Perception\n",
       "113           Tai Chi Meditation 1: Life Force Breathing\n",
       "114                                Sounds Fun Phonics CD\n",
       "Name: title, dtype: object"
      ]
     },
     "execution_count": 29,
     "metadata": {},
     "output_type": "execute_result"
    }
   ],
   "source": [
    "songs_hengameh.title[110:115]"
   ]
  },
  {
   "cell_type": "code",
   "execution_count": 30,
   "id": "c892dc22",
   "metadata": {
    "scrolled": true
   },
   "outputs": [],
   "source": [
    "emoji_pattern = re.compile('['\n",
    "    '\\U0001F1E0-\\U0001F1FF'  # flags (iOS)\n",
    "    '\\U0001F300-\\U0001F5FF'  # symbols & pictographs\n",
    "    '\\U0001F600-\\U0001F64F'  # emoticons\n",
    "    '\\U0001F680-\\U0001F6FF'  # transport & map symbols\n",
    "    '\\U0001F700-\\U0001F77F'  # alchemical symbols\n",
    "    '\\U0001F780-\\U0001F7FF'  # Geometric Shapes Extended\n",
    "    '\\U0001F800-\\U0001F8FF'  # Supplemental Arrows-C\n",
    "    '\\U0001F900-\\U0001F9FF'  # Supplemental Symbols and Pictographs\n",
    "    '\\U0001FA00-\\U0001FA6F'  # Chess Symbols\n",
    "    '\\U0001FA70-\\U0001FAFF'  # Symbols and Pictographs Extended-A\n",
    "    '\\U00002702-\\U000027B0'  # Dingbats\n",
    "    '\\U000024C2-\\U0001F251'\n",
    "    ']+')"
   ]
  },
  {
   "cell_type": "code",
   "execution_count": 31,
   "id": "0fc3ea0e",
   "metadata": {
    "scrolled": true
   },
   "outputs": [],
   "source": [
    "for col in songs_hengameh.columns:\n",
    "    matches = songs_hengameh[col].astype(str).apply(lambda x: bool(emoji_pattern.search(x)))\n",
    "    matches.count()"
   ]
  },
  {
   "cell_type": "code",
   "execution_count": 33,
   "id": "9a02ef33",
   "metadata": {
    "scrolled": true
   },
   "outputs": [
    {
     "data": {
      "text/plain": [
       "title            0\n",
       "rank             0\n",
       "price            0\n",
       "asin             0\n",
       "popular_asin     0\n",
       "product_info    27\n",
       "dtype: int64"
      ]
     },
     "execution_count": 33,
     "metadata": {},
     "output_type": "execute_result"
    }
   ],
   "source": [
    "songs_hengameh.applymap(lambda x: 'http' in str(x)).sum()"
   ]
  },
  {
   "cell_type": "code",
   "execution_count": 32,
   "id": "a81fd605",
   "metadata": {
    "scrolled": true
   },
   "outputs": [],
   "source": [
    "def clean_text(text):\n",
    "    text = re.sub(r'http\\S+|https\\S+|www\\.\\S+|class=\"[^\"]*\"', '', text)\n",
    "    text = re.sub(r'<.*?>', '', text)\n",
    "    text = re.sub(r'<(span|h1)\\b', '', text)\n",
    "    text = re.sub(r'\\n+|[^\\w\\s]+', '', text)\n",
    "    text = text.strip().lower()\n",
    "    return text"
   ]
  },
  {
   "cell_type": "code",
   "execution_count": 34,
   "id": "29235061",
   "metadata": {
    "scrolled": true
   },
   "outputs": [],
   "source": [
    "songs_hengameh['rank'] = songs_hengameh['rank'].fillna(0).astype(str)\n",
    "songs_hengameh['rank'] = songs_hengameh['rank'].replace(',','')\n",
    "songs_hengameh['rank'] = songs_hengameh['rank'].str.extract('([\\d,]+)')\n",
    "songs_hengameh['rank'] = songs_hengameh['rank'].str.replace(',', '')\n",
    "songs_hengameh['rank'] = songs_hengameh['rank'].astype(int)"
   ]
  },
  {
   "cell_type": "code",
   "execution_count": 35,
   "id": "5bda1234",
   "metadata": {
    "scrolled": true
   },
   "outputs": [],
   "source": [
    "songs_hengameh['price'] = songs_hengameh['price'].astype(float)"
   ]
  },
  {
   "cell_type": "code",
   "execution_count": 36,
   "id": "cef870f9",
   "metadata": {
    "scrolled": true
   },
   "outputs": [
    {
     "data": {
      "text/plain": [
       "Index(['title', 'rank', 'price', 'asin', 'popular_asin', 'product_info'], dtype='object')"
      ]
     },
     "execution_count": 36,
     "metadata": {},
     "output_type": "execute_result"
    }
   ],
   "source": [
    "songs_hengameh.columns"
   ]
  },
  {
   "cell_type": "code",
   "execution_count": 37,
   "id": "1107a50d",
   "metadata": {
    "scrolled": true
   },
   "outputs": [],
   "source": [
    "text_cols = ['title', 'product_info', 'popular_asin']\n",
    "\n",
    "for col in text_cols:\n",
    "    songs_hengameh[col] = songs_hengameh[col].fillna('').apply(lambda x: clean_text(str(x)))"
   ]
  },
  {
   "cell_type": "code",
   "execution_count": 38,
   "id": "3f86fccc",
   "metadata": {
    "scrolled": true
   },
   "outputs": [
    {
     "data": {
      "text/plain": [
       "title           0\n",
       "rank            0\n",
       "price           0\n",
       "asin            0\n",
       "popular_asin    0\n",
       "product_info    0\n",
       "dtype: int64"
      ]
     },
     "execution_count": 38,
     "metadata": {},
     "output_type": "execute_result"
    }
   ],
   "source": [
    "songs_hengameh.applymap(lambda x: 'http' in str(x)).sum()"
   ]
  },
  {
   "cell_type": "code",
   "execution_count": 39,
   "id": "c8248396",
   "metadata": {
    "scrolled": true
   },
   "outputs": [],
   "source": [
    "asin_to_title = dict(zip(songs_hengameh['asin'], songs_hengameh['title']))\n",
    "\n",
    "def replace_asins(cell):\n",
    "    asins = cell.split()\n",
    "    titles = [asin_to_title.get(asin, None) for asin in asins]\n",
    "    titles = [t for t in titles if t is not None]\n",
    "    return ' '.join(titles)\n",
    "\n",
    "songs_hengameh['popular_asin'] = songs_hengameh['popular_asin'].apply(replace_asins)"
   ]
  },
  {
   "cell_type": "code",
   "execution_count": 40,
   "id": "bc8bdbc7",
   "metadata": {
    "scrolled": true
   },
   "outputs": [
    {
     "name": "stdout",
     "output_type": "stream",
     "text": [
      "<class 'pandas.core.frame.DataFrame'>\n",
      "RangeIndex: 74347 entries, 0 to 74346\n",
      "Data columns (total 6 columns):\n",
      " #   Column        Non-Null Count  Dtype  \n",
      "---  ------        --------------  -----  \n",
      " 0   title         74347 non-null  object \n",
      " 1   rank          74347 non-null  int32  \n",
      " 2   price         74347 non-null  float64\n",
      " 3   asin          74347 non-null  object \n",
      " 4   popular_asin  74347 non-null  object \n",
      " 5   product_info  74347 non-null  object \n",
      "dtypes: float64(1), int32(1), object(4)\n",
      "memory usage: 3.1+ MB\n"
     ]
    }
   ],
   "source": [
    "songs_hengameh.info()"
   ]
  },
  {
   "cell_type": "code",
   "execution_count": 41,
   "id": "6cb6bafe",
   "metadata": {
    "scrolled": true
   },
   "outputs": [],
   "source": [
    "songs_hengameh['product_info'] = songs_hengameh['product_info'].fillna('') + ' ' + songs_hengameh['popular_asin'].fillna('')"
   ]
  },
  {
   "cell_type": "code",
   "execution_count": 42,
   "id": "537fa325",
   "metadata": {
    "scrolled": true
   },
   "outputs": [],
   "source": [
    "songs_hengameh = songs_hengameh.drop(['popular_asin'],axis=1)"
   ]
  },
  {
   "cell_type": "code",
   "execution_count": 56,
   "id": "b18d80a6",
   "metadata": {
    "scrolled": true
   },
   "outputs": [
    {
     "data": {
      "text/html": [
       "<div>\n",
       "<style scoped>\n",
       "    .dataframe tbody tr th:only-of-type {\n",
       "        vertical-align: middle;\n",
       "    }\n",
       "\n",
       "    .dataframe tbody tr th {\n",
       "        vertical-align: top;\n",
       "    }\n",
       "\n",
       "    .dataframe thead th {\n",
       "        text-align: right;\n",
       "    }\n",
       "</style>\n",
       "<table border=\"1\" class=\"dataframe\">\n",
       "  <thead>\n",
       "    <tr style=\"text-align: right;\">\n",
       "      <th></th>\n",
       "      <th>title</th>\n",
       "      <th>rank</th>\n",
       "      <th>price</th>\n",
       "      <th>asin</th>\n",
       "      <th>product_info</th>\n",
       "    </tr>\n",
       "  </thead>\n",
       "  <tbody>\n",
       "    <tr>\n",
       "      <th>0</th>\n",
       "      <td>master collection volume one</td>\n",
       "      <td>58291</td>\n",
       "      <td>18.99</td>\n",
       "      <td>0001377647</td>\n",
       "      <td>master collection volume one  john michael tal...</td>\n",
       "    </tr>\n",
       "    <tr>\n",
       "      <th>1</th>\n",
       "      <td>hymns collection hymns 1 amp 2</td>\n",
       "      <td>93164</td>\n",
       "      <td>12.35</td>\n",
       "      <td>0001529145</td>\n",
       "      <td>hymns collection hymns 1 amp 2  second chapter...</td>\n",
       "    </tr>\n",
       "    <tr>\n",
       "      <th>2</th>\n",
       "      <td>early works  don francisco</td>\n",
       "      <td>875825</td>\n",
       "      <td>12.35</td>\n",
       "      <td>0001527134</td>\n",
       "      <td>early works  don francisco  don francisco don ...</td>\n",
       "    </tr>\n",
       "    <tr>\n",
       "      <th>3</th>\n",
       "      <td>so you wanna go back to egypt</td>\n",
       "      <td>203263</td>\n",
       "      <td>13.01</td>\n",
       "      <td>0001388703</td>\n",
       "      <td>so you wanna go back to egypt  keith green</td>\n",
       "    </tr>\n",
       "    <tr>\n",
       "      <th>4</th>\n",
       "      <td>early works  dallas holm</td>\n",
       "      <td>399269</td>\n",
       "      <td>12.35</td>\n",
       "      <td>0001526146</td>\n",
       "      <td>early works  dallas holm 1 losing game 2 i can...</td>\n",
       "    </tr>\n",
       "  </tbody>\n",
       "</table>\n",
       "</div>"
      ],
      "text/plain": [
       "                            title    rank  price        asin  \\\n",
       "0    master collection volume one   58291  18.99  0001377647   \n",
       "1  hymns collection hymns 1 amp 2   93164  12.35  0001529145   \n",
       "2      early works  don francisco  875825  12.35  0001527134   \n",
       "3   so you wanna go back to egypt  203263  13.01  0001388703   \n",
       "4        early works  dallas holm  399269  12.35  0001526146   \n",
       "\n",
       "                                        product_info  \n",
       "0  master collection volume one  john michael tal...  \n",
       "1  hymns collection hymns 1 amp 2  second chapter...  \n",
       "2  early works  don francisco  don francisco don ...  \n",
       "3        so you wanna go back to egypt  keith green   \n",
       "4  early works  dallas holm 1 losing game 2 i can...  "
      ]
     },
     "execution_count": 56,
     "metadata": {},
     "output_type": "execute_result"
    }
   ],
   "source": [
    "songs_hengameh.head(5)"
   ]
  },
  {
   "cell_type": "code",
   "execution_count": 44,
   "id": "4d35b1e3",
   "metadata": {
    "scrolled": true
   },
   "outputs": [],
   "source": [
    "songs_hengameh['product_info'].to_csv('product_info.csv', index=False)"
   ]
  },
  {
   "cell_type": "code",
   "execution_count": 45,
   "id": "67f81013",
   "metadata": {
    "scrolled": true
   },
   "outputs": [
    {
     "data": {
      "text/plain": [
       "(74347, 5)"
      ]
     },
     "execution_count": 45,
     "metadata": {},
     "output_type": "execute_result"
    }
   ],
   "source": [
    "songs_hengameh.shape"
   ]
  },
  {
   "cell_type": "code",
   "execution_count": 46,
   "id": "50e9c0da",
   "metadata": {
    "scrolled": true
   },
   "outputs": [
    {
     "data": {
      "text/html": [
       "<div>\n",
       "<style scoped>\n",
       "    .dataframe tbody tr th:only-of-type {\n",
       "        vertical-align: middle;\n",
       "    }\n",
       "\n",
       "    .dataframe tbody tr th {\n",
       "        vertical-align: top;\n",
       "    }\n",
       "\n",
       "    .dataframe thead th {\n",
       "        text-align: right;\n",
       "    }\n",
       "</style>\n",
       "<table border=\"1\" class=\"dataframe\">\n",
       "  <thead>\n",
       "    <tr style=\"text-align: right;\">\n",
       "      <th></th>\n",
       "      <th>product_info</th>\n",
       "    </tr>\n",
       "  </thead>\n",
       "  <tbody>\n",
       "    <tr>\n",
       "      <th>0</th>\n",
       "      <td>master collection volume one  john michael tal...</td>\n",
       "    </tr>\n",
       "    <tr>\n",
       "      <th>1</th>\n",
       "      <td>hymns collection hymns 1 amp 2  second chapter...</td>\n",
       "    </tr>\n",
       "    <tr>\n",
       "      <th>2</th>\n",
       "      <td>early works  don francisco  don francisco don ...</td>\n",
       "    </tr>\n",
       "  </tbody>\n",
       "</table>\n",
       "</div>"
      ],
      "text/plain": [
       "                                        product_info\n",
       "0  master collection volume one  john michael tal...\n",
       "1  hymns collection hymns 1 amp 2  second chapter...\n",
       "2  early works  don francisco  don francisco don ..."
      ]
     },
     "execution_count": 46,
     "metadata": {},
     "output_type": "execute_result"
    }
   ],
   "source": [
    "new_songs_hengameh = pd.read_csv('product_info.csv')\n",
    "new_songs_hengameh.head(3)"
   ]
  },
  {
   "cell_type": "code",
   "execution_count": 47,
   "id": "e11370c8",
   "metadata": {
    "scrolled": true
   },
   "outputs": [],
   "source": [
    "tfidf = TfidfVectorizer(stop_words='english')\n",
    "tfidf_matrix = tfidf.fit_transform(songs_hengameh['product_info'])"
   ]
  },
  {
   "cell_type": "code",
   "execution_count": 48,
   "id": "0da9a3c3",
   "metadata": {
    "scrolled": true
   },
   "outputs": [
    {
     "name": "stderr",
     "output_type": "stream",
     "text": [
      "C:\\ProgramData\\Anaconda3\\lib\\site-packages\\sklearn\\utils\\deprecation.py:87: FutureWarning: Function get_feature_names is deprecated; get_feature_names is deprecated in 1.0 and will be removed in 1.2. Please use get_feature_names_out instead.\n",
      "  warnings.warn(msg, category=FutureWarning)\n"
     ]
    }
   ],
   "source": [
    "feature_names = tfidf.get_feature_names()"
   ]
  },
  {
   "cell_type": "code",
   "execution_count": 49,
   "id": "5029c1b5",
   "metadata": {
    "scrolled": true
   },
   "outputs": [
    {
     "name": "stdout",
     "output_type": "stream",
     "text": [
      "elementary      63417 \t 0.1303\n",
      "excellent       66668 \t 0.0864\n",
      "foundation      71859 \t 0.0991\n",
      "ginn            75982 \t 0.2950\n",
      "grade           78067 \t 0.1110\n"
     ]
    }
   ],
   "source": [
    "matrix_row = tfidf_matrix[10]\n",
    "dense_row = matrix_row.todense()\n",
    "non_zero_indices = dense_row.nonzero()[1]\n",
    "\n",
    "for index in non_zero_indices[10:15]:\n",
    "    word = feature_names[index]\n",
    "    tfidf_value = dense_row[0, index]\n",
    "    print(f'{word:{10}} {index:{10}} \\t {tfidf_value:.4f}')"
   ]
  },
  {
   "cell_type": "code",
   "execution_count": 50,
   "id": "26a9c993",
   "metadata": {
    "scrolled": true
   },
   "outputs": [
    {
     "data": {
      "text/plain": [
       "(74347, 188250)"
      ]
     },
     "execution_count": 50,
     "metadata": {},
     "output_type": "execute_result"
    }
   ],
   "source": [
    "tfidf_matrix.shape"
   ]
  },
  {
   "cell_type": "code",
   "execution_count": 51,
   "id": "cea6a186",
   "metadata": {
    "scrolled": true
   },
   "outputs": [],
   "source": [
    "# TruncatedSVD: reduce the dimensionality of the TF-IDF\n",
    "# svd = TruncatedSVD(n_components=200)\n",
    "# svd_matrix = svd.fit_transform(tfidf_matrix)"
   ]
  },
  {
   "cell_type": "code",
   "execution_count": 52,
   "id": "2ff9cc46",
   "metadata": {
    "scrolled": true
   },
   "outputs": [],
   "source": [
    "cosine_sim = linear_kernel(tfidf_matrix, tfidf_matrix)"
   ]
  },
  {
   "cell_type": "code",
   "execution_count": 53,
   "id": "d4e0789d",
   "metadata": {
    "scrolled": true
   },
   "outputs": [
    {
     "name": "stdout",
     "output_type": "stream",
     "text": [
      "\n",
      "Similarity score between 'master collection volume one' and 'hymns collection hymns 1 amp 2' is 0.021\n",
      "\n",
      "Similarity score between 'master collection volume one' and 'early works  don francisco' is 0.000\n",
      "\n",
      "Similarity score between 'master collection volume one' and 'so you wanna go back to egypt' is 0.000\n",
      "\n",
      "Similarity score between 'master collection volume one' and 'early works  dallas holm' is 0.015\n",
      "\n",
      "Similarity score between 'hymns collection hymns 1 amp 2' and 'early works  don francisco' is 0.000\n",
      "\n",
      "Similarity score between 'hymns collection hymns 1 amp 2' and 'so you wanna go back to egypt' is 0.000\n",
      "\n",
      "Similarity score between 'hymns collection hymns 1 amp 2' and 'early works  dallas holm' is 0.000\n",
      "\n",
      "Similarity score between 'early works  don francisco' and 'so you wanna go back to egypt' is 0.000\n",
      "\n",
      "Similarity score between 'early works  don francisco' and 'early works  dallas holm' is 0.027\n",
      "\n",
      "Similarity score between 'so you wanna go back to egypt' and 'early works  dallas holm' is 0.000\n"
     ]
    }
   ],
   "source": [
    "for i in range(5):\n",
    "    for j in range(i+1, 5):\n",
    "        score = cosine_sim[i][j]\n",
    "        print(f\"\\nSimilarity score between '{songs_hengameh.iloc[i]['title']}' and '{songs_hengameh.iloc[j]['title']}' is {score:.3f}\")"
   ]
  },
  {
   "cell_type": "code",
   "execution_count": 54,
   "id": "48ccc353",
   "metadata": {
    "scrolled": true
   },
   "outputs": [],
   "source": [
    "def recommend_songs(title, cosine_sim=cosine_sim, songs=songs_hengameh):\n",
    "    idx = songs[songs['product_info'].str.contains(title)].index[0]\n",
    "    print(f\"\\nIf you mean {songs.iloc[idx]['title']} song :\\n\")\n",
    "    sim_scores = list(enumerate(cosine_sim[idx]))\n",
    "    sim_scores = sorted(sim_scores, key=lambda x: x[1], reverse=True)\n",
    "    sim_scores = sim_scores[1:11]\n",
    "    song_indices = [i[0] for i in sim_scores]\n",
    "    return songs['title'].iloc[song_indices]"
   ]
  },
  {
   "cell_type": "code",
   "execution_count": 57,
   "id": "8fc3fd30",
   "metadata": {
    "scrolled": false
   },
   "outputs": [
    {
     "name": "stdout",
     "output_type": "stream",
     "text": [
      "Enter a song title :world\n",
      "\n",
      "If you mean the life the complete recorded trilogy on the life of christ song :\n",
      "\n",
      "\n",
      "Recommended songs\n",
      "\n",
      "1. luke a world turned upside down\n",
      "2. luke jones  just believe\n",
      "3. luke powerstexaseeub001f0tq8qrockpop\n",
      "4. the upside down world of john pantry lp\n",
      "5. upside down\n",
      "6. here and now\n",
      "7. upside of social\n",
      "8. kill the lights by luke bryan 20150807\n",
      "9. official bootleg\n",
      "10. this is the life\n",
      "======================================================================\n",
      "Enter a song title :exit\n"
     ]
    }
   ],
   "source": [
    "while True:\n",
    "    title = input('Enter a song title :').lower()\n",
    "    if title == 'exit':\n",
    "        break\n",
    "    if not any(songs_hengameh['product_info'].str.contains(title)):\n",
    "        print(f\"\\nWe don't have recommendations for {title} \")\n",
    "    else:\n",
    "        recommended_songs = recommend_songs(title)\n",
    "        print(\"\\nRecommended songs\\n\")\n",
    "        for i, song in enumerate(recommended_songs):\n",
    "            print(f\"{i+1}. {song}\")\n",
    "        print('='*70)"
   ]
  },
  {
   "cell_type": "code",
   "execution_count": null,
   "id": "d88f7e4a",
   "metadata": {
    "scrolled": true
   },
   "outputs": [],
   "source": []
  }
 ],
 "metadata": {
  "kernelspec": {
   "display_name": "Python 3 (ipykernel)",
   "language": "python",
   "name": "python3"
  },
  "language_info": {
   "codemirror_mode": {
    "name": "ipython",
    "version": 3
   },
   "file_extension": ".py",
   "mimetype": "text/x-python",
   "name": "python",
   "nbconvert_exporter": "python",
   "pygments_lexer": "ipython3",
   "version": "3.9.13"
  }
 },
 "nbformat": 4,
 "nbformat_minor": 5
}
