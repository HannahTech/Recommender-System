{
 "cells": [
  {
   "cell_type": "code",
   "execution_count": 1,
   "id": "1356e743",
   "metadata": {},
   "outputs": [],
   "source": [
    "import pandas as pd\n",
    "import itertools, re\n",
    "from apyori import apriori"
   ]
  },
  {
   "cell_type": "code",
   "execution_count": 2,
   "id": "6c5cdbc3",
   "metadata": {},
   "outputs": [
    {
     "data": {
      "text/html": [
       "<div>\n",
       "<style scoped>\n",
       "    .dataframe tbody tr th:only-of-type {\n",
       "        vertical-align: middle;\n",
       "    }\n",
       "\n",
       "    .dataframe tbody tr th {\n",
       "        vertical-align: top;\n",
       "    }\n",
       "\n",
       "    .dataframe thead th {\n",
       "        text-align: right;\n",
       "    }\n",
       "</style>\n",
       "<table border=\"1\" class=\"dataframe\">\n",
       "  <thead>\n",
       "    <tr style=\"text-align: right;\">\n",
       "      <th></th>\n",
       "      <th>id</th>\n",
       "      <th>cuisine</th>\n",
       "      <th>ingredients</th>\n",
       "    </tr>\n",
       "  </thead>\n",
       "  <tbody>\n",
       "    <tr>\n",
       "      <th>0</th>\n",
       "      <td>10259</td>\n",
       "      <td>greek</td>\n",
       "      <td>[romaine lettuce, black olives, grape tomatoes...</td>\n",
       "    </tr>\n",
       "    <tr>\n",
       "      <th>1</th>\n",
       "      <td>25693</td>\n",
       "      <td>southern_us</td>\n",
       "      <td>[plain flour, ground pepper, salt, tomatoes, g...</td>\n",
       "    </tr>\n",
       "    <tr>\n",
       "      <th>2</th>\n",
       "      <td>20130</td>\n",
       "      <td>filipino</td>\n",
       "      <td>[eggs, pepper, salt, mayonaise, cooking oil, g...</td>\n",
       "    </tr>\n",
       "    <tr>\n",
       "      <th>3</th>\n",
       "      <td>22213</td>\n",
       "      <td>indian</td>\n",
       "      <td>[water, vegetable oil, wheat, salt]</td>\n",
       "    </tr>\n",
       "    <tr>\n",
       "      <th>4</th>\n",
       "      <td>13162</td>\n",
       "      <td>indian</td>\n",
       "      <td>[black pepper, shallots, cornflour, cayenne pe...</td>\n",
       "    </tr>\n",
       "  </tbody>\n",
       "</table>\n",
       "</div>"
      ],
      "text/plain": [
       "      id      cuisine                                        ingredients\n",
       "0  10259        greek  [romaine lettuce, black olives, grape tomatoes...\n",
       "1  25693  southern_us  [plain flour, ground pepper, salt, tomatoes, g...\n",
       "2  20130     filipino  [eggs, pepper, salt, mayonaise, cooking oil, g...\n",
       "3  22213       indian                [water, vegetable oil, wheat, salt]\n",
       "4  13162       indian  [black pepper, shallots, cornflour, cayenne pe..."
      ]
     },
     "execution_count": 2,
     "metadata": {},
     "output_type": "execute_result"
    }
   ],
   "source": [
    "data = pd.read_json('recipies.json')\n",
    "data.head()"
   ]
  },
  {
   "cell_type": "code",
   "execution_count": 3,
   "id": "30878b52",
   "metadata": {},
   "outputs": [
    {
     "data": {
      "text/plain": [
       "(39774, 3)"
      ]
     },
     "execution_count": 3,
     "metadata": {},
     "output_type": "execute_result"
    }
   ],
   "source": [
    "data.shape"
   ]
  },
  {
   "cell_type": "code",
   "execution_count": 4,
   "id": "fbffe556",
   "metadata": {},
   "outputs": [
    {
     "data": {
      "text/plain": [
       "20"
      ]
     },
     "execution_count": 4,
     "metadata": {},
     "output_type": "execute_result"
    }
   ],
   "source": [
    "data['cuisine'].unique().size"
   ]
  },
  {
   "cell_type": "code",
   "execution_count": 5,
   "id": "2422fe16",
   "metadata": {},
   "outputs": [
    {
     "data": {
      "text/plain": [
       "italian         7838\n",
       "mexican         6438\n",
       "southern_us     4320\n",
       "indian          3003\n",
       "chinese         2673\n",
       "french          2646\n",
       "cajun_creole    1546\n",
       "thai            1539\n",
       "japanese        1423\n",
       "greek           1175\n",
       "spanish          989\n",
       "korean           830\n",
       "vietnamese       825\n",
       "moroccan         821\n",
       "british          804\n",
       "filipino         755\n",
       "irish            667\n",
       "jamaican         526\n",
       "russian          489\n",
       "brazilian        467\n",
       "Name: cuisine, dtype: int64"
      ]
     },
     "execution_count": 5,
     "metadata": {},
     "output_type": "execute_result"
    }
   ],
   "source": [
    "data.cuisine.value_counts()"
   ]
  },
  {
   "cell_type": "code",
   "execution_count": 6,
   "id": "4226a0fb",
   "metadata": {},
   "outputs": [
    {
     "data": {
      "text/html": [
       "<div>\n",
       "<style scoped>\n",
       "    .dataframe tbody tr th:only-of-type {\n",
       "        vertical-align: middle;\n",
       "    }\n",
       "\n",
       "    .dataframe tbody tr th {\n",
       "        vertical-align: top;\n",
       "    }\n",
       "\n",
       "    .dataframe thead th {\n",
       "        text-align: right;\n",
       "    }\n",
       "</style>\n",
       "<table border=\"1\" class=\"dataframe\">\n",
       "  <thead>\n",
       "    <tr style=\"text-align: right;\">\n",
       "      <th></th>\n",
       "      <th>Cuisine</th>\n",
       "      <th>Count</th>\n",
       "    </tr>\n",
       "  </thead>\n",
       "  <tbody>\n",
       "    <tr>\n",
       "      <th>0</th>\n",
       "      <td>italian</td>\n",
       "      <td>7838</td>\n",
       "    </tr>\n",
       "    <tr>\n",
       "      <th>1</th>\n",
       "      <td>mexican</td>\n",
       "      <td>6438</td>\n",
       "    </tr>\n",
       "    <tr>\n",
       "      <th>2</th>\n",
       "      <td>southern_us</td>\n",
       "      <td>4320</td>\n",
       "    </tr>\n",
       "    <tr>\n",
       "      <th>3</th>\n",
       "      <td>indian</td>\n",
       "      <td>3003</td>\n",
       "    </tr>\n",
       "    <tr>\n",
       "      <th>4</th>\n",
       "      <td>chinese</td>\n",
       "      <td>2673</td>\n",
       "    </tr>\n",
       "    <tr>\n",
       "      <th>5</th>\n",
       "      <td>french</td>\n",
       "      <td>2646</td>\n",
       "    </tr>\n",
       "    <tr>\n",
       "      <th>6</th>\n",
       "      <td>cajun_creole</td>\n",
       "      <td>1546</td>\n",
       "    </tr>\n",
       "    <tr>\n",
       "      <th>7</th>\n",
       "      <td>thai</td>\n",
       "      <td>1539</td>\n",
       "    </tr>\n",
       "    <tr>\n",
       "      <th>8</th>\n",
       "      <td>japanese</td>\n",
       "      <td>1423</td>\n",
       "    </tr>\n",
       "    <tr>\n",
       "      <th>9</th>\n",
       "      <td>greek</td>\n",
       "      <td>1175</td>\n",
       "    </tr>\n",
       "    <tr>\n",
       "      <th>10</th>\n",
       "      <td>spanish</td>\n",
       "      <td>989</td>\n",
       "    </tr>\n",
       "    <tr>\n",
       "      <th>11</th>\n",
       "      <td>korean</td>\n",
       "      <td>830</td>\n",
       "    </tr>\n",
       "    <tr>\n",
       "      <th>12</th>\n",
       "      <td>vietnamese</td>\n",
       "      <td>825</td>\n",
       "    </tr>\n",
       "    <tr>\n",
       "      <th>13</th>\n",
       "      <td>moroccan</td>\n",
       "      <td>821</td>\n",
       "    </tr>\n",
       "    <tr>\n",
       "      <th>14</th>\n",
       "      <td>british</td>\n",
       "      <td>804</td>\n",
       "    </tr>\n",
       "    <tr>\n",
       "      <th>15</th>\n",
       "      <td>filipino</td>\n",
       "      <td>755</td>\n",
       "    </tr>\n",
       "    <tr>\n",
       "      <th>16</th>\n",
       "      <td>irish</td>\n",
       "      <td>667</td>\n",
       "    </tr>\n",
       "    <tr>\n",
       "      <th>17</th>\n",
       "      <td>jamaican</td>\n",
       "      <td>526</td>\n",
       "    </tr>\n",
       "    <tr>\n",
       "      <th>18</th>\n",
       "      <td>russian</td>\n",
       "      <td>489</td>\n",
       "    </tr>\n",
       "    <tr>\n",
       "      <th>19</th>\n",
       "      <td>brazilian</td>\n",
       "      <td>467</td>\n",
       "    </tr>\n",
       "  </tbody>\n",
       "</table>\n",
       "</div>"
      ],
      "text/plain": [
       "         Cuisine  Count\n",
       "0        italian   7838\n",
       "1        mexican   6438\n",
       "2    southern_us   4320\n",
       "3         indian   3003\n",
       "4        chinese   2673\n",
       "5         french   2646\n",
       "6   cajun_creole   1546\n",
       "7           thai   1539\n",
       "8       japanese   1423\n",
       "9          greek   1175\n",
       "10       spanish    989\n",
       "11        korean    830\n",
       "12    vietnamese    825\n",
       "13      moroccan    821\n",
       "14       british    804\n",
       "15      filipino    755\n",
       "16         irish    667\n",
       "17      jamaican    526\n",
       "18       russian    489\n",
       "19     brazilian    467"
      ]
     },
     "execution_count": 6,
     "metadata": {},
     "output_type": "execute_result"
    }
   ],
   "source": [
    "pd.DataFrame({'Cuisine': data.cuisine.value_counts().index, 'Count': data.cuisine.value_counts().values})"
   ]
  },
  {
   "cell_type": "code",
   "execution_count": 7,
   "id": "0e3c21c6",
   "metadata": {},
   "outputs": [
    {
     "name": "stdout",
     "output_type": "stream",
     "text": [
      "<class 'pandas.core.frame.DataFrame'>\n",
      "RangeIndex: 39774 entries, 0 to 39773\n",
      "Data columns (total 3 columns):\n",
      " #   Column       Non-Null Count  Dtype \n",
      "---  ------       --------------  ----- \n",
      " 0   id           39774 non-null  int64 \n",
      " 1   cuisine      39774 non-null  object\n",
      " 2   ingredients  39774 non-null  object\n",
      "dtypes: int64(1), object(2)\n",
      "memory usage: 932.3+ KB\n"
     ]
    }
   ],
   "source": [
    "data.info()"
   ]
  },
  {
   "cell_type": "code",
   "execution_count": 8,
   "id": "73a5a2c7",
   "metadata": {
    "scrolled": true
   },
   "outputs": [
    {
     "data": {
      "text/plain": [
       "id             0\n",
       "cuisine        0\n",
       "ingredients    0\n",
       "dtype: int64"
      ]
     },
     "execution_count": 8,
     "metadata": {},
     "output_type": "execute_result"
    }
   ],
   "source": [
    "data.isna().sum()"
   ]
  },
  {
   "cell_type": "code",
   "execution_count": 9,
   "id": "831ce996",
   "metadata": {},
   "outputs": [],
   "source": [
    "def rules(cuisine_type):\n",
    "    cuisine_info = data[data['cuisine'] == cuisine_type]['ingredients']\n",
    "    cuisine_num = len(cuisine_info)\n",
    "    support_value = 100 / cuisine_num\n",
    "\n",
    "    association_rules = apriori(cuisine_info, min_support=support_value, min_confidence=0.5)\n",
    "\n",
    "    AssociationRulesDictionary = {}\n",
    "    \n",
    "    for item in association_rules:\n",
    "        if len(item[0]) < 2:\n",
    "            continue\n",
    "        for k in item[2]:\n",
    "            baseItemList = list(k[0])\n",
    "            if not baseItemList:\n",
    "                continue\n",
    "            baseItemList.sort()\n",
    "            baseItemList_key = tuple(baseItemList)\n",
    "            if baseItemList_key not in AssociationRulesDictionary.keys():\n",
    "                AssociationRulesDictionary[baseItemList_key] = []\n",
    "            AssociationRulesDictionary[baseItemList_key].append((list(k[1])[0], k[3])) # all-purpose flour , 7.0692013962096185\n",
    "    for ruleList in AssociationRulesDictionary:\n",
    "        AssociationRulesDictionary[ruleList].sort(key=lambda x: x[1], reverse=True) # sort by lift number\n",
    "   \n",
    "    print(f\"\\n{'rule':{25}} {'items':{45}} {'lift'}\")\n",
    "    print(\"=\"*80)\n",
    "    for item, rules in AssociationRulesDictionary.items():\n",
    "        for rule in rules:\n",
    "            if rule[1] > 2:\n",
    "#                 item = \", \".join(item)\n",
    "                item = re.sub(r\"['\\(\\)]\", \"\", str(item))\n",
    "                item = re.sub(r\",$\", \"\", item)\n",
    "                print(f\"{rule[0]:{25}} {item:{45}} {rule[1]:.2f}\")"
   ]
  },
  {
   "cell_type": "code",
   "execution_count": 10,
   "id": "70a2957f",
   "metadata": {},
   "outputs": [],
   "source": [
    "# AssociationRulesDictionary: {('baking powder',): [('all-purpose flour', 7.0692013962096185), ('salt', 1.464034219324953)], ('all-purpose flour',): [('salt', 1.4090133254614334)], ('vanilla extract',): [('all-purpose flour', 4.600451646919549), ('sugar', 5.509769286229273)], ('arborio rice',): [('dry white wine', 7.393564615868358), "
   ]
  },
  {
   "cell_type": "code",
   "execution_count": 12,
   "id": "387f989e",
   "metadata": {},
   "outputs": [
    {
     "name": "stdout",
     "output_type": "stream",
     "text": [
      "Enter a cuisine type: italian\n",
      "\n",
      "rule                      items                                         lift\n",
      "================================================================================\n",
      "all-purpose flour         baking powder                                 7.07\n",
      "sugar                     vanilla extract                               5.51\n",
      "all-purpose flour         vanilla extract                               4.60\n",
      "dry white wine            arborio rice                                  7.39\n",
      "onions                    carrots                                       3.37\n",
      "onions                    celery                                        4.12\n",
      "garlic cloves             crushed red pepper                            2.52\n",
      "dried oregano             dried basil                                   6.95\n",
      "garlic                    red pepper flakes                             3.26\n",
      "grated parmesan cheese    lasagna noodles                               2.53\n",
      "salt                      butter, pepper                                2.14\n",
      "onions                    carrots, olive oil                            3.56\n",
      "onions                    carrots, salt                                 3.49\n",
      "garlic cloves             crushed red pepper, olive oil                 2.70\n",
      "garlic cloves             crushed red pepper, salt                      2.76\n",
      "dried oregano             dried basil, olive oil                        7.39\n",
      "dried oregano             dried basil, salt                             7.22\n",
      "salt                      eggs, pepper                                  2.09\n",
      "ground black pepper       extra-virgin olive oil, kosher salt           2.77\n",
      "salt                      fresh parsley, pepper                         2.04\n",
      "olive oil                 garlic, pepper                                2.55\n",
      "salt                      garlic, pepper                                2.05\n",
      "olive oil                 garlic cloves, pepper                         2.79\n",
      "olive oil                 onions, pepper                                2.67\n",
      "salt                      onions, pepper                                2.07\n",
      "salt                      olive oil, pepper                             2.01\n",
      "onions                    salt, tomato paste                            3.51\n",
      "salt                      garlic, grated parmesan cheese, pepper        2.11\n",
      "salt                      garlic, olive oil, pepper                     2.07\n",
      "salt                      garlic, onions, pepper                        2.10\n",
      "salt                      grated parmesan cheese, olive oil, pepper     2.00\n",
      "salt                      olive oil, onions, pepper                     2.10\n",
      "Enter a cuisine type: exit\n"
     ]
    }
   ],
   "source": [
    "while True:\n",
    "    cuisine_type = input('Enter a cuisine type: ').lower()\n",
    "    \n",
    "    if cuisine_type == 'exit':\n",
    "        break\n",
    "\n",
    "    elif cuisine_type in data['cuisine'].unique():\n",
    "        rules(cuisine_type)\n",
    "        \n",
    "    else:\n",
    "        print(\"\\nWe don't have recommendations for \", cuisine_type)\n",
    "        print('please type again \\n')"
   ]
  },
  {
   "cell_type": "code",
   "execution_count": null,
   "id": "958335b4",
   "metadata": {},
   "outputs": [],
   "source": []
  }
 ],
 "metadata": {
  "kernelspec": {
   "display_name": "Python 3 (ipykernel)",
   "language": "python",
   "name": "python3"
  },
  "language_info": {
   "codemirror_mode": {
    "name": "ipython",
    "version": 3
   },
   "file_extension": ".py",
   "mimetype": "text/x-python",
   "name": "python",
   "nbconvert_exporter": "python",
   "pygments_lexer": "ipython3",
   "version": "3.9.13"
  }
 },
 "nbformat": 4,
 "nbformat_minor": 5
}
